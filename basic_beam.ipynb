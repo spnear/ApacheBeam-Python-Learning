{
 "cells": [
  {
   "cell_type": "code",
   "execution_count": 2,
   "metadata": {},
   "outputs": [
    {
     "name": "stdout",
     "output_type": "stream",
     "text": [
      "149633CM,Marco,10,Accounts,1-01-2019\n",
      "212539MU,Rebekah,10,Accounts,1-01-2019\n",
      "231555ZZ,Itoe,10,Accounts,1-01-2019\n",
      "503996WI,Edouard,10,Accounts,1-01-2019\n",
      "704275DC,Kyle,10,Accounts,1-01-2019\n",
      "957149WC,Kyle,10,Accounts,1-01-2019\n",
      "241316NX,Kumiko,10,Accounts,1-01-2019\n",
      "796656IE,Gaston,10,Accounts,1-01-2019\n",
      "331593PS,Beryl,20,HR,1-01-2019\n",
      "560447WH,Olga,20,HR,1-01-2019\n"
     ]
    }
   ],
   "source": [
    "!head data\\dept_data.txt"
   ]
  },
  {
   "cell_type": "code",
   "execution_count": 3,
   "metadata": {},
   "outputs": [],
   "source": [
    "import apache_beam as beam"
   ]
  },
  {
   "cell_type": "code",
   "execution_count": 4,
   "metadata": {},
   "outputs": [
    {
     "ename": "SyntaxError",
     "evalue": "invalid syntax (2744764251.py, line 7)",
     "output_type": "error",
     "traceback": [
      "\u001b[1;36m  Input \u001b[1;32mIn [4]\u001b[1;36m\u001b[0m\n\u001b[1;33m    '''PTransforms group begin'''\u001b[0m\n\u001b[1;37m    ^\u001b[0m\n\u001b[1;31mSyntaxError\u001b[0m\u001b[1;31m:\u001b[0m invalid syntax\n"
     ]
    }
   ],
   "source": [
    "p = beam.Pipeline()\n",
    "\n",
    "attendance_count = (\n",
    "\n",
    "    p\n",
    "    |   beam.io.ReadFromText('data/dept_data.txt') # Read from text -> Initial PCollection\n",
    "    '''PTransforms group begin'''\n",
    "    |   beam.Map(lambda record: record.split(',')) # Split by commas\n",
    "    |   beam.Filter(lambda record: record[3] == 'Accounts') # Filter all rows wich department equals to \"Accounts\"\n",
    "    |   beam.Map(lambda record: (record[1],1)) # Make a record with name and value 1\n",
    "    |   beam.CombinePerKey(sum) # Combine using Key-Value\n",
    "    |   beam.Map(lambda employee_count: str(employee_count)) # Parsing to String\n",
    "    '''PTransforms group ends'''\n",
    "    |   beam.io.WriteToText('data/output') # Output to text file -> Write PCollection to source\n",
    "\n",
    ")"
   ]
  },
  {
   "cell_type": "markdown",
   "metadata": {},
   "source": [
    "#### Notas adicionales\n",
    "\n",
    "El operador Pipe (|) es el equivalente de usar el método genérico del SDK de Beam (.apply)"
   ]
  },
  {
   "cell_type": "code",
   "execution_count": null,
   "metadata": {},
   "outputs": [
    {
     "data": {
      "text/plain": [
       "<apache_beam.runners.portability.fn_api_runner.fn_runner.RunnerResult at 0x1cfb7dd2280>"
      ]
     },
     "execution_count": 4,
     "metadata": {},
     "output_type": "execute_result"
    }
   ],
   "source": [
    "p.run()"
   ]
  },
  {
   "cell_type": "code",
   "execution_count": 5,
   "metadata": {},
   "outputs": [
    {
     "name": "stdout",
     "output_type": "stream",
     "text": [
      "('Marco', 31)\n",
      "('Rebekah', 31)\n",
      "('Itoe', 31)\n",
      "('Edouard', 31)\n",
      "('Kyle', 62)\n",
      "('Kumiko', 31)\n",
      "('Gaston', 31)\n",
      "('Ayumi', 30)\n"
     ]
    }
   ],
   "source": [
    "!cat data/output-00000-of-00001"
   ]
  },
  {
   "cell_type": "code",
   "execution_count": null,
   "metadata": {},
   "outputs": [],
   "source": []
  }
 ],
 "metadata": {
  "kernelspec": {
   "display_name": "Python 3.9.12 ('venv': venv)",
   "language": "python",
   "name": "python3"
  },
  "language_info": {
   "codemirror_mode": {
    "name": "ipython",
    "version": 3
   },
   "file_extension": ".py",
   "mimetype": "text/x-python",
   "name": "python",
   "nbconvert_exporter": "python",
   "pygments_lexer": "ipython3",
   "version": "3.9.12"
  },
  "orig_nbformat": 4,
  "vscode": {
   "interpreter": {
    "hash": "825f67373903a79eee6a8fac97956faac9ffbf2e2a0bf1f3ca7eaed6083fcfd2"
   }
  }
 },
 "nbformat": 4,
 "nbformat_minor": 2
}
