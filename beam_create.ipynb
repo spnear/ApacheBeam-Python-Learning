{
 "cells": [
  {
   "cell_type": "code",
   "execution_count": 1,
   "metadata": {},
   "outputs": [],
   "source": [
    "import apache_beam as beam"
   ]
  },
  {
   "cell_type": "code",
   "execution_count": 2,
   "metadata": {},
   "outputs": [],
   "source": [
    "p = beam.Pipeline()"
   ]
  },
  {
   "cell_type": "code",
   "execution_count": 3,
   "metadata": {},
   "outputs": [
    {
     "data": {
      "application/javascript": "\n        if (typeof window.interactive_beam_jquery == 'undefined') {\n          var jqueryScript = document.createElement('script');\n          jqueryScript.src = 'https://code.jquery.com/jquery-3.4.1.slim.min.js';\n          jqueryScript.type = 'text/javascript';\n          jqueryScript.onload = function() {\n            var datatableScript = document.createElement('script');\n            datatableScript.src = 'https://cdn.datatables.net/1.10.20/js/jquery.dataTables.min.js';\n            datatableScript.type = 'text/javascript';\n            datatableScript.onload = function() {\n              window.interactive_beam_jquery = jQuery.noConflict(true);\n              window.interactive_beam_jquery(document).ready(function($){\n                \n              });\n            }\n            document.head.appendChild(datatableScript);\n          };\n          document.head.appendChild(jqueryScript);\n        } else {\n          window.interactive_beam_jquery(document).ready(function($){\n            \n          });\n        }"
     },
     "metadata": {},
     "output_type": "display_data"
    },
    {
     "data": {
      "text/plain": [
       "<apache_beam.runners.portability.fn_api_runner.fn_runner.RunnerResult at 0x22540b8a490>"
      ]
     },
     "execution_count": 3,
     "metadata": {},
     "output_type": "execute_result"
    }
   ],
   "source": [
    "lines = (\n",
    "    p\n",
    "    |   beam.Create(['Creating transform',\n",
    "            'to generate in memory data',\n",
    "            '3rd line',\n",
    "            'Bye!']) #Elementos son separados por comas\n",
    "    |   beam.io.WriteToText('data/outCreate1')\n",
    ")\n",
    "p.run()"
   ]
  },
  {
   "cell_type": "code",
   "execution_count": 4,
   "metadata": {},
   "outputs": [
    {
     "name": "stdout",
     "output_type": "stream",
     "text": [
      "Creating transform\n",
      "to generate in memory data\n",
      "3rd line\n",
      "Bye!\n"
     ]
    }
   ],
   "source": [
    "!head -n 20 data/outCreate1-00000-of-00001'"
   ]
  },
  {
   "cell_type": "code",
   "execution_count": 5,
   "metadata": {},
   "outputs": [
    {
     "data": {
      "text/plain": [
       "<apache_beam.runners.portability.fn_api_runner.fn_runner.RunnerResult at 0x22540cd3f40>"
      ]
     },
     "execution_count": 5,
     "metadata": {},
     "output_type": "execute_result"
    }
   ],
   "source": [
    "p2 = beam.Pipeline()\n",
    "lines2 = (\n",
    "    p2\n",
    "    |   beam.Create([1,2,3,4,5,6,7,8,9])\n",
    "    |   beam.io.WriteToText('data/outCreate2')\n",
    ")\n",
    "p2.run()"
   ]
  },
  {
   "cell_type": "code",
   "execution_count": 6,
   "metadata": {},
   "outputs": [
    {
     "name": "stdout",
     "output_type": "stream",
     "text": [
      "1\n",
      "2\n",
      "3\n",
      "4\n",
      "5\n",
      "6\n",
      "7\n",
      "8\n",
      "9\n"
     ]
    }
   ],
   "source": [
    "!head -n 20 data/outCreate2-00000-of-00001'"
   ]
  },
  {
   "cell_type": "code",
   "execution_count": 7,
   "metadata": {},
   "outputs": [
    {
     "data": {
      "text/plain": [
       "<apache_beam.runners.portability.fn_api_runner.fn_runner.RunnerResult at 0x22540c06b80>"
      ]
     },
     "execution_count": 7,
     "metadata": {},
     "output_type": "execute_result"
    }
   ],
   "source": [
    "p3 = beam.Pipeline()\n",
    "\n",
    "lines = (\n",
    "    p3\n",
    "    | beam.Create([(\"Maths\", 52), (\"English\", 75), (\"Science\", 82), (\"Computer\", 35)])\n",
    "    | beam.io.WriteToText('data/outCreate3')\n",
    ")\n",
    "\n",
    "p3.run()"
   ]
  },
  {
   "cell_type": "code",
   "execution_count": 8,
   "metadata": {},
   "outputs": [
    {
     "name": "stdout",
     "output_type": "stream",
     "text": [
      "('Maths', 52)\n",
      "('English', 75)\n",
      "('Science', 82)\n",
      "('Computer', 35)\n"
     ]
    }
   ],
   "source": [
    "!head -n 20 data/outCreate3-00000-of-00001"
   ]
  },
  {
   "cell_type": "code",
   "execution_count": 9,
   "metadata": {},
   "outputs": [
    {
     "data": {
      "text/plain": [
       "<apache_beam.runners.portability.fn_api_runner.fn_runner.RunnerResult at 0x22540d429d0>"
      ]
     },
     "execution_count": 9,
     "metadata": {},
     "output_type": "execute_result"
    }
   ],
   "source": [
    "p4 = beam.Pipeline()\n",
    "\n",
    "lines = (\n",
    "    p4\n",
    "    |   beam.Create({'row1': [1,2,3,4,5],\n",
    "                    'row2': [1,2,3,4,5]})\n",
    "    |   beam.io.WriteToText('data/outCreate4')\n",
    ")\n",
    "\n",
    "p4.run()"
   ]
  },
  {
   "cell_type": "code",
   "execution_count": 10,
   "metadata": {},
   "outputs": [
    {
     "name": "stdout",
     "output_type": "stream",
     "text": [
      "('row1', [1, 2, 3, 4, 5])\n",
      "('row2', [1, 2, 3, 4, 5])\n"
     ]
    }
   ],
   "source": [
    "!head -n 20 data/outCreate4-00000-of-00001"
   ]
  },
  {
   "cell_type": "code",
   "execution_count": null,
   "metadata": {},
   "outputs": [],
   "source": []
  }
 ],
 "metadata": {
  "kernelspec": {
   "display_name": "Python 3.9.12 ('venv': venv)",
   "language": "python",
   "name": "python3"
  },
  "language_info": {
   "codemirror_mode": {
    "name": "ipython",
    "version": 3
   },
   "file_extension": ".py",
   "mimetype": "text/x-python",
   "name": "python",
   "nbconvert_exporter": "python",
   "pygments_lexer": "ipython3",
   "version": "3.9.12"
  },
  "orig_nbformat": 4,
  "vscode": {
   "interpreter": {
    "hash": "825f67373903a79eee6a8fac97956faac9ffbf2e2a0bf1f3ca7eaed6083fcfd2"
   }
  }
 },
 "nbformat": 4,
 "nbformat_minor": 2
}
