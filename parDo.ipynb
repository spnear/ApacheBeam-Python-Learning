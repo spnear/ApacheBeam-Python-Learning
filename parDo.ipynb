{
 "cells": [
  {
   "cell_type": "code",
   "execution_count": 1,
   "metadata": {},
   "outputs": [],
   "source": [
    "import apache_beam as beam"
   ]
  },
  {
   "cell_type": "markdown",
   "metadata": {},
   "source": [
    "### ParDo Transform\n",
    "\n",
    "\n",
    "Takes each element of the PCollection, performs a processing function on it and emits 0,1 o multiple elemens\n",
    "\n",
    "Is the generic form of the Map and FlatMap phases or Parent Class of them\n",
    "\n",
    "ParDo is usefull for:\n",
    "\n",
    "- Filtering \n",
    "- Formatting or Type Conversion\n",
    "- Extracting individual parts\n",
    "- Computations -> Perform any processing function\n",
    "\n",
    "\n",
    "When you apply a ParDo Transform you'll need to provide user code in form of a DoFn object\n",
    "\n",
    "##### ¿What is a DoFn Object?\n",
    "\n",
    "Beam class that defines a distributed processing function.\n",
    "\n",
    "It contains all the logic to run  the user provided function parallelly on diferents machines"
   ]
  },
  {
   "cell_type": "markdown",
   "metadata": {},
   "source": [
    "### ParDo as Map:"
   ]
  },
  {
   "cell_type": "code",
   "execution_count": 3,
   "metadata": {},
   "outputs": [],
   "source": [
    "class SplitRow(beam.DoFn):\n",
    "    #Override process function (@process)\n",
    "    def process(self, element):\n",
    "        return [element.split(',')]"
   ]
  },
  {
   "cell_type": "code",
   "execution_count": 13,
   "metadata": {},
   "outputs": [],
   "source": [
    "with beam.Pipeline() as p:\n",
    "    attendance_count=(\n",
    "        p\n",
    "        |   beam.io.ReadFromText('data/dept_data.txt')\n",
    "        |   beam.ParDo(SplitRow())\n",
    "        |   beam.Map(lambda record: (record[1], 1))\n",
    "        |   beam.CombinePerKey(sum)\n",
    "        |   beam.io.WriteToText('data/out_pardo_map')\n",
    "    )\n"
   ]
  },
  {
   "cell_type": "code",
   "execution_count": 14,
   "metadata": {},
   "outputs": [
    {
     "name": "stdout",
     "output_type": "stream",
     "text": [
      "('Marco', 31)\n",
      "('Rebekah', 31)\n",
      "('Itoe', 31)\n",
      "('Edouard', 31)\n",
      "('Kyle', 62)\n",
      "('Kumiko', 62)\n",
      "('Gaston', 31)\n",
      "('Beryl', 62)\n",
      "('Olga', 31)\n",
      "('Leslie', 31)\n"
     ]
    }
   ],
   "source": [
    "!head -n 10 data/out_pardo-00000-of-00001"
   ]
  },
  {
   "cell_type": "markdown",
   "metadata": {},
   "source": [
    "### ParDo as FlatMap\n",
    "\n",
    "###### Bonus: Added filter usin ParDo"
   ]
  },
  {
   "cell_type": "code",
   "execution_count": 22,
   "metadata": {},
   "outputs": [],
   "source": [
    "class SplitRow(beam.DoFn):\n",
    "    #Override process function (@process)\n",
    "    def process(self, element):\n",
    "        return element.split(',')"
   ]
  },
  {
   "cell_type": "code",
   "execution_count": 23,
   "metadata": {},
   "outputs": [],
   "source": [
    "class FilterAccountsEmployee(beam.DoFn):\n",
    "    \n",
    "    def process(self, element):\n",
    "        if element[3] == 'Accounts':\n",
    "            return  [element]"
   ]
  },
  {
   "cell_type": "code",
   "execution_count": 24,
   "metadata": {},
   "outputs": [
    {
     "ename": "IndexError",
     "evalue": "string index out of range [while running '[24]: ParDo(FilterAccountsEmployee)']",
     "output_type": "error",
     "traceback": [
      "\u001b[1;31m---------------------------------------------------------------------------\u001b[0m",
      "\u001b[1;31mIndexError\u001b[0m                                Traceback (most recent call last)",
      "File \u001b[1;32mc:\\Users\\Sebastian\\Documents\\Programacion\\Apache Beam Course\\venv\\lib\\site-packages\\apache_beam\\runners\\common.py:1417\u001b[0m, in \u001b[0;36mapache_beam.runners.common.DoFnRunner.process\u001b[1;34m()\u001b[0m\n",
      "File \u001b[1;32mc:\\Users\\Sebastian\\Documents\\Programacion\\Apache Beam Course\\venv\\lib\\site-packages\\apache_beam\\runners\\common.py:624\u001b[0m, in \u001b[0;36mapache_beam.runners.common.SimpleInvoker.invoke_process\u001b[1;34m()\u001b[0m\n",
      "\u001b[1;32mc:\\Users\\Sebastian\\Documents\\Programacion\\Apache Beam Course\\parDo.ipynb Celda 10\u001b[0m in \u001b[0;36mFilterAccountsEmployee.process\u001b[1;34m(self, element)\u001b[0m\n\u001b[0;32m      <a href='vscode-notebook-cell:/c%3A/Users/Sebastian/Documents/Programacion/Apache%20Beam%20Course/parDo.ipynb#X21sZmlsZQ%3D%3D?line=2'>3</a>\u001b[0m \u001b[39mdef\u001b[39;00m \u001b[39mprocess\u001b[39m(\u001b[39mself\u001b[39m, element):\n\u001b[1;32m----> <a href='vscode-notebook-cell:/c%3A/Users/Sebastian/Documents/Programacion/Apache%20Beam%20Course/parDo.ipynb#X21sZmlsZQ%3D%3D?line=3'>4</a>\u001b[0m     \u001b[39mif\u001b[39;00m element[\u001b[39m3\u001b[39;49m] \u001b[39m==\u001b[39m \u001b[39m'\u001b[39m\u001b[39mAccounts\u001b[39m\u001b[39m'\u001b[39m:\n\u001b[0;32m      <a href='vscode-notebook-cell:/c%3A/Users/Sebastian/Documents/Programacion/Apache%20Beam%20Course/parDo.ipynb#X21sZmlsZQ%3D%3D?line=4'>5</a>\u001b[0m         \u001b[39mreturn\u001b[39;00m  [element]\n",
      "\u001b[1;31mIndexError\u001b[0m: string index out of range",
      "\nDuring handling of the above exception, another exception occurred:\n",
      "\u001b[1;31mIndexError\u001b[0m                                Traceback (most recent call last)",
      "\u001b[1;32mc:\\Users\\Sebastian\\Documents\\Programacion\\Apache Beam Course\\parDo.ipynb Celda 10\u001b[0m in \u001b[0;36m<cell line: 1>\u001b[1;34m()\u001b[0m\n\u001b[0;32m      <a href='vscode-notebook-cell:/c%3A/Users/Sebastian/Documents/Programacion/Apache%20Beam%20Course/parDo.ipynb#X21sZmlsZQ%3D%3D?line=0'>1</a>\u001b[0m \u001b[39mwith\u001b[39;00m beam\u001b[39m.\u001b[39mPipeline() \u001b[39mas\u001b[39;00m p:\n\u001b[1;32m----> <a href='vscode-notebook-cell:/c%3A/Users/Sebastian/Documents/Programacion/Apache%20Beam%20Course/parDo.ipynb#X21sZmlsZQ%3D%3D?line=1'>2</a>\u001b[0m     attendance_count\u001b[39m=\u001b[39m(\n\u001b[0;32m      <a href='vscode-notebook-cell:/c%3A/Users/Sebastian/Documents/Programacion/Apache%20Beam%20Course/parDo.ipynb#X21sZmlsZQ%3D%3D?line=2'>3</a>\u001b[0m         p\n\u001b[0;32m      <a href='vscode-notebook-cell:/c%3A/Users/Sebastian/Documents/Programacion/Apache%20Beam%20Course/parDo.ipynb#X21sZmlsZQ%3D%3D?line=3'>4</a>\u001b[0m         \u001b[39m|\u001b[39m   beam\u001b[39m.\u001b[39mio\u001b[39m.\u001b[39mReadFromText(\u001b[39m'\u001b[39m\u001b[39mdata/dept_data.txt\u001b[39m\u001b[39m'\u001b[39m)\n\u001b[0;32m      <a href='vscode-notebook-cell:/c%3A/Users/Sebastian/Documents/Programacion/Apache%20Beam%20Course/parDo.ipynb#X21sZmlsZQ%3D%3D?line=4'>5</a>\u001b[0m         \u001b[39m|\u001b[39m   beam\u001b[39m.\u001b[39mParDo(SplitRow())\n\u001b[0;32m      <a href='vscode-notebook-cell:/c%3A/Users/Sebastian/Documents/Programacion/Apache%20Beam%20Course/parDo.ipynb#X21sZmlsZQ%3D%3D?line=5'>6</a>\u001b[0m         \u001b[39m|\u001b[39m   beam\u001b[39m.\u001b[39mParDo(FilterAccountsEmployee())\n\u001b[0;32m      <a href='vscode-notebook-cell:/c%3A/Users/Sebastian/Documents/Programacion/Apache%20Beam%20Course/parDo.ipynb#X21sZmlsZQ%3D%3D?line=6'>7</a>\u001b[0m         \u001b[39m|\u001b[39m   beam\u001b[39m.\u001b[39mio\u001b[39m.\u001b[39mWriteToText(\u001b[39m'\u001b[39m\u001b[39mdata/out_pardo_flatmap_filter\u001b[39m\u001b[39m'\u001b[39m)\n\u001b[0;32m      <a href='vscode-notebook-cell:/c%3A/Users/Sebastian/Documents/Programacion/Apache%20Beam%20Course/parDo.ipynb#X21sZmlsZQ%3D%3D?line=7'>8</a>\u001b[0m     )\n",
      "File \u001b[1;32mc:\\Users\\Sebastian\\Documents\\Programacion\\Apache Beam Course\\venv\\lib\\site-packages\\apache_beam\\pipeline.py:597\u001b[0m, in \u001b[0;36mPipeline.__exit__\u001b[1;34m(self, exc_type, exc_val, exc_tb)\u001b[0m\n\u001b[0;32m    595\u001b[0m \u001b[39mtry\u001b[39;00m:\n\u001b[0;32m    596\u001b[0m   \u001b[39mif\u001b[39;00m \u001b[39mnot\u001b[39;00m exc_type:\n\u001b[1;32m--> 597\u001b[0m     \u001b[39mself\u001b[39m\u001b[39m.\u001b[39mresult \u001b[39m=\u001b[39m \u001b[39mself\u001b[39;49m\u001b[39m.\u001b[39;49mrun()\n\u001b[0;32m    598\u001b[0m     \u001b[39mself\u001b[39m\u001b[39m.\u001b[39mresult\u001b[39m.\u001b[39mwait_until_finish()\n\u001b[0;32m    599\u001b[0m \u001b[39mfinally\u001b[39;00m:\n",
      "File \u001b[1;32mc:\\Users\\Sebastian\\Documents\\Programacion\\Apache Beam Course\\venv\\lib\\site-packages\\apache_beam\\pipeline.py:574\u001b[0m, in \u001b[0;36mPipeline.run\u001b[1;34m(self, test_runner_api)\u001b[0m\n\u001b[0;32m    572\u001b[0m     \u001b[39mfinally\u001b[39;00m:\n\u001b[0;32m    573\u001b[0m       shutil\u001b[39m.\u001b[39mrmtree(tmpdir)\n\u001b[1;32m--> 574\u001b[0m   \u001b[39mreturn\u001b[39;00m \u001b[39mself\u001b[39;49m\u001b[39m.\u001b[39;49mrunner\u001b[39m.\u001b[39;49mrun_pipeline(\u001b[39mself\u001b[39;49m, \u001b[39mself\u001b[39;49m\u001b[39m.\u001b[39;49m_options)\n\u001b[0;32m    575\u001b[0m \u001b[39mfinally\u001b[39;00m:\n\u001b[0;32m    576\u001b[0m   \u001b[39mif\u001b[39;00m \u001b[39mnot\u001b[39;00m is_in_ipython():\n",
      "File \u001b[1;32mc:\\Users\\Sebastian\\Documents\\Programacion\\Apache Beam Course\\venv\\lib\\site-packages\\apache_beam\\runners\\direct\\direct_runner.py:131\u001b[0m, in \u001b[0;36mSwitchingDirectRunner.run_pipeline\u001b[1;34m(self, pipeline, options)\u001b[0m\n\u001b[0;32m    128\u001b[0m \u001b[39melse\u001b[39;00m:\n\u001b[0;32m    129\u001b[0m   runner \u001b[39m=\u001b[39m BundleBasedDirectRunner()\n\u001b[1;32m--> 131\u001b[0m \u001b[39mreturn\u001b[39;00m runner\u001b[39m.\u001b[39;49mrun_pipeline(pipeline, options)\n",
      "File \u001b[1;32mc:\\Users\\Sebastian\\Documents\\Programacion\\Apache Beam Course\\venv\\lib\\site-packages\\apache_beam\\runners\\portability\\fn_api_runner\\fn_runner.py:199\u001b[0m, in \u001b[0;36mFnApiRunner.run_pipeline\u001b[1;34m(self, pipeline, options)\u001b[0m\n\u001b[0;32m    188\u001b[0m   _LOGGER\u001b[39m.\u001b[39mwarning(\n\u001b[0;32m    189\u001b[0m       \u001b[39m'\u001b[39m\u001b[39mIf direct_num_workers is not equal to 1, direct_running_mode \u001b[39m\u001b[39m'\u001b[39m\n\u001b[0;32m    190\u001b[0m       \u001b[39m'\u001b[39m\u001b[39mshould be `multi_processing` or `multi_threading` instead of \u001b[39m\u001b[39m'\u001b[39m\n\u001b[1;32m   (...)\u001b[0m\n\u001b[0;32m    193\u001b[0m       \u001b[39mself\u001b[39m\u001b[39m.\u001b[39m_num_workers,\n\u001b[0;32m    194\u001b[0m       running_mode)\n\u001b[0;32m    196\u001b[0m \u001b[39mself\u001b[39m\u001b[39m.\u001b[39m_profiler_factory \u001b[39m=\u001b[39m Profile\u001b[39m.\u001b[39mfactory_from_options(\n\u001b[0;32m    197\u001b[0m     options\u001b[39m.\u001b[39mview_as(pipeline_options\u001b[39m.\u001b[39mProfilingOptions))\n\u001b[1;32m--> 199\u001b[0m \u001b[39mself\u001b[39m\u001b[39m.\u001b[39m_latest_run_result \u001b[39m=\u001b[39m \u001b[39mself\u001b[39;49m\u001b[39m.\u001b[39;49mrun_via_runner_api(\n\u001b[0;32m    200\u001b[0m     pipeline\u001b[39m.\u001b[39;49mto_runner_api(default_environment\u001b[39m=\u001b[39;49m\u001b[39mself\u001b[39;49m\u001b[39m.\u001b[39;49m_default_environment),\n\u001b[0;32m    201\u001b[0m     options)\n\u001b[0;32m    202\u001b[0m \u001b[39mreturn\u001b[39;00m \u001b[39mself\u001b[39m\u001b[39m.\u001b[39m_latest_run_result\n",
      "File \u001b[1;32mc:\\Users\\Sebastian\\Documents\\Programacion\\Apache Beam Course\\venv\\lib\\site-packages\\apache_beam\\runners\\portability\\fn_api_runner\\fn_runner.py:212\u001b[0m, in \u001b[0;36mFnApiRunner.run_via_runner_api\u001b[1;34m(self, pipeline_proto, options)\u001b[0m\n\u001b[0;32m    210\u001b[0m   pipeline_proto \u001b[39m=\u001b[39m \u001b[39mself\u001b[39m\u001b[39m.\u001b[39membed_default_docker_image(pipeline_proto)\n\u001b[0;32m    211\u001b[0m stage_context, stages \u001b[39m=\u001b[39m \u001b[39mself\u001b[39m\u001b[39m.\u001b[39mcreate_stages(pipeline_proto)\n\u001b[1;32m--> 212\u001b[0m \u001b[39mreturn\u001b[39;00m \u001b[39mself\u001b[39;49m\u001b[39m.\u001b[39;49mrun_stages(stage_context, stages)\n",
      "File \u001b[1;32mc:\\Users\\Sebastian\\Documents\\Programacion\\Apache Beam Course\\venv\\lib\\site-packages\\apache_beam\\runners\\portability\\fn_api_runner\\fn_runner.py:442\u001b[0m, in \u001b[0;36mFnApiRunner.run_stages\u001b[1;34m(self, stage_context, stages)\u001b[0m\n\u001b[0;32m    439\u001b[0m \u001b[39massert\u001b[39;00m consuming_stage_name \u001b[39m==\u001b[39m bundle_context_manager\u001b[39m.\u001b[39mstage\u001b[39m.\u001b[39mname\n\u001b[0;32m    441\u001b[0m bundle_counter \u001b[39m+\u001b[39m\u001b[39m=\u001b[39m \u001b[39m1\u001b[39m\n\u001b[1;32m--> 442\u001b[0m bundle_results \u001b[39m=\u001b[39m \u001b[39mself\u001b[39;49m\u001b[39m.\u001b[39;49m_execute_bundle(\n\u001b[0;32m    443\u001b[0m     runner_execution_context, bundle_context_manager, bundle_input)\n\u001b[0;32m    445\u001b[0m \u001b[39mif\u001b[39;00m consuming_stage_name \u001b[39min\u001b[39;00m monitoring_infos_by_stage:\n\u001b[0;32m    446\u001b[0m   monitoring_infos_by_stage[\n\u001b[0;32m    447\u001b[0m       consuming_stage_name] \u001b[39m=\u001b[39m consolidate_monitoring_infos(\n\u001b[0;32m    448\u001b[0m           itertools\u001b[39m.\u001b[39mchain(\n\u001b[0;32m    449\u001b[0m               bundle_results\u001b[39m.\u001b[39mprocess_bundle\u001b[39m.\u001b[39mmonitoring_infos,\n\u001b[0;32m    450\u001b[0m               monitoring_infos_by_stage[consuming_stage_name]))\n",
      "File \u001b[1;32mc:\\Users\\Sebastian\\Documents\\Programacion\\Apache Beam Course\\venv\\lib\\site-packages\\apache_beam\\runners\\portability\\fn_api_runner\\fn_runner.py:770\u001b[0m, in \u001b[0;36mFnApiRunner._execute_bundle\u001b[1;34m(self, runner_execution_context, bundle_context_manager, bundle_input)\u001b[0m\n\u001b[0;32m    765\u001b[0m \u001b[39m# We create the bundle manager here, as it can be reused for bundles of\u001b[39;00m\n\u001b[0;32m    766\u001b[0m \u001b[39m# the same stage, but it may have to be created by-bundle later on.\u001b[39;00m\n\u001b[0;32m    767\u001b[0m bundle_manager \u001b[39m=\u001b[39m \u001b[39mself\u001b[39m\u001b[39m.\u001b[39m_get_bundle_manager(bundle_context_manager)\n\u001b[0;32m    769\u001b[0m last_result, deferred_inputs, newly_set_timers, watermark_updates \u001b[39m=\u001b[39m (\n\u001b[1;32m--> 770\u001b[0m     \u001b[39mself\u001b[39;49m\u001b[39m.\u001b[39;49m_run_bundle(\n\u001b[0;32m    771\u001b[0m         runner_execution_context,\n\u001b[0;32m    772\u001b[0m         bundle_context_manager,\n\u001b[0;32m    773\u001b[0m         bundle_input,\n\u001b[0;32m    774\u001b[0m         bundle_context_manager\u001b[39m.\u001b[39;49mstage_data_outputs,\n\u001b[0;32m    775\u001b[0m         bundle_context_manager\u001b[39m.\u001b[39;49mstage_timer_outputs,\n\u001b[0;32m    776\u001b[0m         bundle_manager))\n\u001b[0;32m    778\u001b[0m \u001b[39mfor\u001b[39;00m pc_name, watermark \u001b[39min\u001b[39;00m watermark_updates\u001b[39m.\u001b[39mitems():\n\u001b[0;32m    779\u001b[0m   _BUNDLE_LOGGER\u001b[39m.\u001b[39mdebug(\u001b[39m'\u001b[39m\u001b[39mUpdate: \u001b[39m\u001b[39m%s\u001b[39;00m\u001b[39m \u001b[39m\u001b[39m%s\u001b[39;00m\u001b[39m'\u001b[39m, pc_name, watermark)\n",
      "File \u001b[1;32mc:\\Users\\Sebastian\\Documents\\Programacion\\Apache Beam Course\\venv\\lib\\site-packages\\apache_beam\\runners\\portability\\fn_api_runner\\fn_runner.py:999\u001b[0m, in \u001b[0;36mFnApiRunner._run_bundle\u001b[1;34m(self, runner_execution_context, bundle_context_manager, bundle_input, data_output, expected_timer_output, bundle_manager)\u001b[0m\n\u001b[0;32m    990\u001b[0m input_timers \u001b[39m=\u001b[39m bundle_input\u001b[39m.\u001b[39mtimers\n\u001b[0;32m    991\u001b[0m \u001b[39mself\u001b[39m\u001b[39m.\u001b[39m_run_bundle_multiple_times_for_testing(\n\u001b[0;32m    992\u001b[0m     runner_execution_context,\n\u001b[0;32m    993\u001b[0m     bundle_manager,\n\u001b[1;32m   (...)\u001b[0m\n\u001b[0;32m    996\u001b[0m     input_timers,\n\u001b[0;32m    997\u001b[0m     expected_timer_output)\n\u001b[1;32m--> 999\u001b[0m result, splits \u001b[39m=\u001b[39m bundle_manager\u001b[39m.\u001b[39;49mprocess_bundle(\n\u001b[0;32m   1000\u001b[0m     data_input, data_output, input_timers, expected_timer_output)\n\u001b[0;32m   1001\u001b[0m \u001b[39m# Now we collect all the deferred inputs remaining from bundle execution.\u001b[39;00m\n\u001b[0;32m   1002\u001b[0m \u001b[39m# Deferred inputs can be:\u001b[39;00m\n\u001b[0;32m   1003\u001b[0m \u001b[39m# - timers\u001b[39;00m\n\u001b[0;32m   1004\u001b[0m \u001b[39m# - SDK-initiated deferred applications of root elements\u001b[39;00m\n\u001b[0;32m   1005\u001b[0m \u001b[39m# - Runner-initiated deferred applications of root elements\u001b[39;00m\n\u001b[0;32m   1006\u001b[0m deferred_inputs \u001b[39m=\u001b[39m {}  \u001b[39m# type: Dict[str, execution.PartitionableBuffer]\u001b[39;00m\n",
      "File \u001b[1;32mc:\\Users\\Sebastian\\Documents\\Programacion\\Apache Beam Course\\venv\\lib\\site-packages\\apache_beam\\runners\\portability\\fn_api_runner\\fn_runner.py:1309\u001b[0m, in \u001b[0;36mBundleManager.process_bundle\u001b[1;34m(self, inputs, expected_outputs, fired_timers, expected_output_timers, dry_run)\u001b[0m\n\u001b[0;32m   1302\u001b[0m \u001b[39m# Actually start the bundle.\u001b[39;00m\n\u001b[0;32m   1303\u001b[0m process_bundle_req \u001b[39m=\u001b[39m beam_fn_api_pb2\u001b[39m.\u001b[39mInstructionRequest(\n\u001b[0;32m   1304\u001b[0m     instruction_id\u001b[39m=\u001b[39mprocess_bundle_id,\n\u001b[0;32m   1305\u001b[0m     process_bundle\u001b[39m=\u001b[39mbeam_fn_api_pb2\u001b[39m.\u001b[39mProcessBundleRequest(\n\u001b[0;32m   1306\u001b[0m         process_bundle_descriptor_id\u001b[39m=\u001b[39m\u001b[39mself\u001b[39m\u001b[39m.\u001b[39mbundle_context_manager\u001b[39m.\u001b[39m\n\u001b[0;32m   1307\u001b[0m         process_bundle_descriptor\u001b[39m.\u001b[39mid,\n\u001b[0;32m   1308\u001b[0m         cache_tokens\u001b[39m=\u001b[39m[\u001b[39mnext\u001b[39m(\u001b[39mself\u001b[39m\u001b[39m.\u001b[39m_cache_token_generator)]))\n\u001b[1;32m-> 1309\u001b[0m result_future \u001b[39m=\u001b[39m \u001b[39mself\u001b[39;49m\u001b[39m.\u001b[39;49m_worker_handler\u001b[39m.\u001b[39;49mcontrol_conn\u001b[39m.\u001b[39;49mpush(process_bundle_req)\n\u001b[0;32m   1311\u001b[0m split_results \u001b[39m=\u001b[39m []  \u001b[39m# type: List[beam_fn_api_pb2.ProcessBundleSplitResponse]\u001b[39;00m\n\u001b[0;32m   1312\u001b[0m \u001b[39mwith\u001b[39;00m ProgressRequester(\u001b[39mself\u001b[39m\u001b[39m.\u001b[39m_worker_handler,\n\u001b[0;32m   1313\u001b[0m                        process_bundle_id,\n\u001b[0;32m   1314\u001b[0m                        \u001b[39mself\u001b[39m\u001b[39m.\u001b[39m_progress_frequency):\n",
      "File \u001b[1;32mc:\\Users\\Sebastian\\Documents\\Programacion\\Apache Beam Course\\venv\\lib\\site-packages\\apache_beam\\runners\\portability\\fn_api_runner\\worker_handlers.py:380\u001b[0m, in \u001b[0;36mEmbeddedWorkerHandler.push\u001b[1;34m(self, request)\u001b[0m\n\u001b[0;32m    378\u001b[0m   \u001b[39mself\u001b[39m\u001b[39m.\u001b[39m_uid_counter \u001b[39m+\u001b[39m\u001b[39m=\u001b[39m \u001b[39m1\u001b[39m\n\u001b[0;32m    379\u001b[0m   request\u001b[39m.\u001b[39minstruction_id \u001b[39m=\u001b[39m \u001b[39m'\u001b[39m\u001b[39mcontrol_\u001b[39m\u001b[39m%s\u001b[39;00m\u001b[39m'\u001b[39m \u001b[39m%\u001b[39m \u001b[39mself\u001b[39m\u001b[39m.\u001b[39m_uid_counter\n\u001b[1;32m--> 380\u001b[0m response \u001b[39m=\u001b[39m \u001b[39mself\u001b[39;49m\u001b[39m.\u001b[39;49mworker\u001b[39m.\u001b[39;49mdo_instruction(request)\n\u001b[0;32m    381\u001b[0m \u001b[39mreturn\u001b[39;00m ControlFuture(request\u001b[39m.\u001b[39minstruction_id, response)\n",
      "File \u001b[1;32mc:\\Users\\Sebastian\\Documents\\Programacion\\Apache Beam Course\\venv\\lib\\site-packages\\apache_beam\\runners\\worker\\sdk_worker.py:597\u001b[0m, in \u001b[0;36mSdkWorker.do_instruction\u001b[1;34m(self, request)\u001b[0m\n\u001b[0;32m    594\u001b[0m request_type \u001b[39m=\u001b[39m request\u001b[39m.\u001b[39mWhichOneof(\u001b[39m'\u001b[39m\u001b[39mrequest\u001b[39m\u001b[39m'\u001b[39m)\n\u001b[0;32m    595\u001b[0m \u001b[39mif\u001b[39;00m request_type:\n\u001b[0;32m    596\u001b[0m   \u001b[39m# E.g. if register is set, this will call self.register(request.register))\u001b[39;00m\n\u001b[1;32m--> 597\u001b[0m   \u001b[39mreturn\u001b[39;00m \u001b[39mgetattr\u001b[39;49m(\u001b[39mself\u001b[39;49m, request_type)(\n\u001b[0;32m    598\u001b[0m       \u001b[39mgetattr\u001b[39;49m(request, request_type), request\u001b[39m.\u001b[39;49minstruction_id)\n\u001b[0;32m    599\u001b[0m \u001b[39melse\u001b[39;00m:\n\u001b[0;32m    600\u001b[0m   \u001b[39mraise\u001b[39;00m \u001b[39mNotImplementedError\u001b[39;00m\n",
      "File \u001b[1;32mc:\\Users\\Sebastian\\Documents\\Programacion\\Apache Beam Course\\venv\\lib\\site-packages\\apache_beam\\runners\\worker\\sdk_worker.py:635\u001b[0m, in \u001b[0;36mSdkWorker.process_bundle\u001b[1;34m(self, request, instruction_id)\u001b[0m\n\u001b[0;32m    631\u001b[0m \u001b[39mwith\u001b[39;00m bundle_processor\u001b[39m.\u001b[39mstate_handler\u001b[39m.\u001b[39mprocess_instruction_id(\n\u001b[0;32m    632\u001b[0m     instruction_id, request\u001b[39m.\u001b[39mcache_tokens):\n\u001b[0;32m    633\u001b[0m   \u001b[39mwith\u001b[39;00m \u001b[39mself\u001b[39m\u001b[39m.\u001b[39mmaybe_profile(instruction_id):\n\u001b[0;32m    634\u001b[0m     delayed_applications, requests_finalization \u001b[39m=\u001b[39m (\n\u001b[1;32m--> 635\u001b[0m         bundle_processor\u001b[39m.\u001b[39;49mprocess_bundle(instruction_id))\n\u001b[0;32m    636\u001b[0m     monitoring_infos \u001b[39m=\u001b[39m bundle_processor\u001b[39m.\u001b[39mmonitoring_infos()\n\u001b[0;32m    637\u001b[0m     monitoring_infos\u001b[39m.\u001b[39mextend(\u001b[39mself\u001b[39m\u001b[39m.\u001b[39mstate_cache_metrics_fn())\n",
      "File \u001b[1;32mc:\\Users\\Sebastian\\Documents\\Programacion\\Apache Beam Course\\venv\\lib\\site-packages\\apache_beam\\runners\\worker\\bundle_processor.py:1003\u001b[0m, in \u001b[0;36mBundleProcessor.process_bundle\u001b[1;34m(self, instruction_id)\u001b[0m\n\u001b[0;32m   1000\u001b[0m         \u001b[39mself\u001b[39m\u001b[39m.\u001b[39mops[element\u001b[39m.\u001b[39mtransform_id]\u001b[39m.\u001b[39mprocess_timer(\n\u001b[0;32m   1001\u001b[0m             element\u001b[39m.\u001b[39mtimer_family_id, timer_data)\n\u001b[0;32m   1002\u001b[0m     \u001b[39melif\u001b[39;00m \u001b[39misinstance\u001b[39m(element, beam_fn_api_pb2\u001b[39m.\u001b[39mElements\u001b[39m.\u001b[39mData):\n\u001b[1;32m-> 1003\u001b[0m       input_op_by_transform_id[element\u001b[39m.\u001b[39;49mtransform_id]\u001b[39m.\u001b[39;49mprocess_encoded(\n\u001b[0;32m   1004\u001b[0m           element\u001b[39m.\u001b[39;49mdata)\n\u001b[0;32m   1006\u001b[0m \u001b[39m# Finish all operations.\u001b[39;00m\n\u001b[0;32m   1007\u001b[0m \u001b[39mfor\u001b[39;00m op \u001b[39min\u001b[39;00m \u001b[39mself\u001b[39m\u001b[39m.\u001b[39mops\u001b[39m.\u001b[39mvalues():\n",
      "File \u001b[1;32mc:\\Users\\Sebastian\\Documents\\Programacion\\Apache Beam Course\\venv\\lib\\site-packages\\apache_beam\\runners\\worker\\bundle_processor.py:227\u001b[0m, in \u001b[0;36mDataInputOperation.process_encoded\u001b[1;34m(self, encoded_windowed_values)\u001b[0m\n\u001b[0;32m    224\u001b[0m   \u001b[39mself\u001b[39m\u001b[39m.\u001b[39mindex \u001b[39m+\u001b[39m\u001b[39m=\u001b[39m \u001b[39m1\u001b[39m\n\u001b[0;32m    225\u001b[0m decoded_value \u001b[39m=\u001b[39m \u001b[39mself\u001b[39m\u001b[39m.\u001b[39mwindowed_coder_impl\u001b[39m.\u001b[39mdecode_from_stream(\n\u001b[0;32m    226\u001b[0m     input_stream, \u001b[39mTrue\u001b[39;00m)\n\u001b[1;32m--> 227\u001b[0m \u001b[39mself\u001b[39;49m\u001b[39m.\u001b[39;49moutput(decoded_value)\n",
      "File \u001b[1;32mc:\\Users\\Sebastian\\Documents\\Programacion\\Apache Beam Course\\venv\\lib\\site-packages\\apache_beam\\runners\\worker\\operations.py:526\u001b[0m, in \u001b[0;36mapache_beam.runners.worker.operations.Operation.output\u001b[1;34m()\u001b[0m\n",
      "File \u001b[1;32mc:\\Users\\Sebastian\\Documents\\Programacion\\Apache Beam Course\\venv\\lib\\site-packages\\apache_beam\\runners\\worker\\operations.py:528\u001b[0m, in \u001b[0;36mapache_beam.runners.worker.operations.Operation.output\u001b[1;34m()\u001b[0m\n",
      "File \u001b[1;32mc:\\Users\\Sebastian\\Documents\\Programacion\\Apache Beam Course\\venv\\lib\\site-packages\\apache_beam\\runners\\worker\\operations.py:237\u001b[0m, in \u001b[0;36mapache_beam.runners.worker.operations.SingletonElementConsumerSet.receive\u001b[1;34m()\u001b[0m\n",
      "File \u001b[1;32mc:\\Users\\Sebastian\\Documents\\Programacion\\Apache Beam Course\\venv\\lib\\site-packages\\apache_beam\\runners\\worker\\operations.py:240\u001b[0m, in \u001b[0;36mapache_beam.runners.worker.operations.SingletonElementConsumerSet.receive\u001b[1;34m()\u001b[0m\n",
      "File \u001b[1;32mc:\\Users\\Sebastian\\Documents\\Programacion\\Apache Beam Course\\venv\\lib\\site-packages\\apache_beam\\runners\\worker\\operations.py:1021\u001b[0m, in \u001b[0;36mapache_beam.runners.worker.operations.SdfProcessSizedElements.process\u001b[1;34m()\u001b[0m\n",
      "File \u001b[1;32mc:\\Users\\Sebastian\\Documents\\Programacion\\Apache Beam Course\\venv\\lib\\site-packages\\apache_beam\\runners\\worker\\operations.py:1030\u001b[0m, in \u001b[0;36mapache_beam.runners.worker.operations.SdfProcessSizedElements.process\u001b[1;34m()\u001b[0m\n",
      "File \u001b[1;32mc:\\Users\\Sebastian\\Documents\\Programacion\\Apache Beam Course\\venv\\lib\\site-packages\\apache_beam\\runners\\common.py:1432\u001b[0m, in \u001b[0;36mapache_beam.runners.common.DoFnRunner.process_with_sized_restriction\u001b[1;34m()\u001b[0m\n",
      "File \u001b[1;32mc:\\Users\\Sebastian\\Documents\\Programacion\\Apache Beam Course\\venv\\lib\\site-packages\\apache_beam\\runners\\common.py:817\u001b[0m, in \u001b[0;36mapache_beam.runners.common.PerWindowInvoker.invoke_process\u001b[1;34m()\u001b[0m\n",
      "File \u001b[1;32mc:\\Users\\Sebastian\\Documents\\Programacion\\Apache Beam Course\\venv\\lib\\site-packages\\apache_beam\\runners\\common.py:981\u001b[0m, in \u001b[0;36mapache_beam.runners.common.PerWindowInvoker._invoke_process_per_window\u001b[1;34m()\u001b[0m\n",
      "File \u001b[1;32mc:\\Users\\Sebastian\\Documents\\Programacion\\Apache Beam Course\\venv\\lib\\site-packages\\apache_beam\\runners\\common.py:1581\u001b[0m, in \u001b[0;36mapache_beam.runners.common._OutputHandler.handle_process_outputs\u001b[1;34m()\u001b[0m\n",
      "File \u001b[1;32mc:\\Users\\Sebastian\\Documents\\Programacion\\Apache Beam Course\\venv\\lib\\site-packages\\apache_beam\\runners\\common.py:1694\u001b[0m, in \u001b[0;36mapache_beam.runners.common._OutputHandler._write_value_to_tag\u001b[1;34m()\u001b[0m\n",
      "File \u001b[1;32mc:\\Users\\Sebastian\\Documents\\Programacion\\Apache Beam Course\\venv\\lib\\site-packages\\apache_beam\\runners\\worker\\operations.py:240\u001b[0m, in \u001b[0;36mapache_beam.runners.worker.operations.SingletonElementConsumerSet.receive\u001b[1;34m()\u001b[0m\n",
      "File \u001b[1;32mc:\\Users\\Sebastian\\Documents\\Programacion\\Apache Beam Course\\venv\\lib\\site-packages\\apache_beam\\runners\\worker\\operations.py:907\u001b[0m, in \u001b[0;36mapache_beam.runners.worker.operations.DoOperation.process\u001b[1;34m()\u001b[0m\n",
      "File \u001b[1;32mc:\\Users\\Sebastian\\Documents\\Programacion\\Apache Beam Course\\venv\\lib\\site-packages\\apache_beam\\runners\\worker\\operations.py:908\u001b[0m, in \u001b[0;36mapache_beam.runners.worker.operations.DoOperation.process\u001b[1;34m()\u001b[0m\n",
      "File \u001b[1;32mc:\\Users\\Sebastian\\Documents\\Programacion\\Apache Beam Course\\venv\\lib\\site-packages\\apache_beam\\runners\\common.py:1419\u001b[0m, in \u001b[0;36mapache_beam.runners.common.DoFnRunner.process\u001b[1;34m()\u001b[0m\n",
      "File \u001b[1;32mc:\\Users\\Sebastian\\Documents\\Programacion\\Apache Beam Course\\venv\\lib\\site-packages\\apache_beam\\runners\\common.py:1491\u001b[0m, in \u001b[0;36mapache_beam.runners.common.DoFnRunner._reraise_augmented\u001b[1;34m()\u001b[0m\n",
      "File \u001b[1;32mc:\\Users\\Sebastian\\Documents\\Programacion\\Apache Beam Course\\venv\\lib\\site-packages\\apache_beam\\runners\\common.py:1417\u001b[0m, in \u001b[0;36mapache_beam.runners.common.DoFnRunner.process\u001b[1;34m()\u001b[0m\n",
      "File \u001b[1;32mc:\\Users\\Sebastian\\Documents\\Programacion\\Apache Beam Course\\venv\\lib\\site-packages\\apache_beam\\runners\\common.py:623\u001b[0m, in \u001b[0;36mapache_beam.runners.common.SimpleInvoker.invoke_process\u001b[1;34m()\u001b[0m\n",
      "File \u001b[1;32mc:\\Users\\Sebastian\\Documents\\Programacion\\Apache Beam Course\\venv\\lib\\site-packages\\apache_beam\\runners\\common.py:1581\u001b[0m, in \u001b[0;36mapache_beam.runners.common._OutputHandler.handle_process_outputs\u001b[1;34m()\u001b[0m\n",
      "File \u001b[1;32mc:\\Users\\Sebastian\\Documents\\Programacion\\Apache Beam Course\\venv\\lib\\site-packages\\apache_beam\\runners\\common.py:1694\u001b[0m, in \u001b[0;36mapache_beam.runners.common._OutputHandler._write_value_to_tag\u001b[1;34m()\u001b[0m\n",
      "File \u001b[1;32mc:\\Users\\Sebastian\\Documents\\Programacion\\Apache Beam Course\\venv\\lib\\site-packages\\apache_beam\\runners\\worker\\operations.py:240\u001b[0m, in \u001b[0;36mapache_beam.runners.worker.operations.SingletonElementConsumerSet.receive\u001b[1;34m()\u001b[0m\n",
      "File \u001b[1;32mc:\\Users\\Sebastian\\Documents\\Programacion\\Apache Beam Course\\venv\\lib\\site-packages\\apache_beam\\runners\\worker\\operations.py:907\u001b[0m, in \u001b[0;36mapache_beam.runners.worker.operations.DoOperation.process\u001b[1;34m()\u001b[0m\n",
      "File \u001b[1;32mc:\\Users\\Sebastian\\Documents\\Programacion\\Apache Beam Course\\venv\\lib\\site-packages\\apache_beam\\runners\\worker\\operations.py:908\u001b[0m, in \u001b[0;36mapache_beam.runners.worker.operations.DoOperation.process\u001b[1;34m()\u001b[0m\n",
      "File \u001b[1;32mc:\\Users\\Sebastian\\Documents\\Programacion\\Apache Beam Course\\venv\\lib\\site-packages\\apache_beam\\runners\\common.py:1419\u001b[0m, in \u001b[0;36mapache_beam.runners.common.DoFnRunner.process\u001b[1;34m()\u001b[0m\n",
      "File \u001b[1;32mc:\\Users\\Sebastian\\Documents\\Programacion\\Apache Beam Course\\venv\\lib\\site-packages\\apache_beam\\runners\\common.py:1507\u001b[0m, in \u001b[0;36mapache_beam.runners.common.DoFnRunner._reraise_augmented\u001b[1;34m()\u001b[0m\n",
      "File \u001b[1;32mc:\\Users\\Sebastian\\Documents\\Programacion\\Apache Beam Course\\venv\\lib\\site-packages\\apache_beam\\runners\\common.py:1417\u001b[0m, in \u001b[0;36mapache_beam.runners.common.DoFnRunner.process\u001b[1;34m()\u001b[0m\n",
      "File \u001b[1;32mc:\\Users\\Sebastian\\Documents\\Programacion\\Apache Beam Course\\venv\\lib\\site-packages\\apache_beam\\runners\\common.py:624\u001b[0m, in \u001b[0;36mapache_beam.runners.common.SimpleInvoker.invoke_process\u001b[1;34m()\u001b[0m\n",
      "\u001b[1;32mc:\\Users\\Sebastian\\Documents\\Programacion\\Apache Beam Course\\parDo.ipynb Celda 10\u001b[0m in \u001b[0;36mFilterAccountsEmployee.process\u001b[1;34m(self, element)\u001b[0m\n\u001b[0;32m      <a href='vscode-notebook-cell:/c%3A/Users/Sebastian/Documents/Programacion/Apache%20Beam%20Course/parDo.ipynb#X21sZmlsZQ%3D%3D?line=2'>3</a>\u001b[0m \u001b[39mdef\u001b[39;00m \u001b[39mprocess\u001b[39m(\u001b[39mself\u001b[39m, element):\n\u001b[1;32m----> <a href='vscode-notebook-cell:/c%3A/Users/Sebastian/Documents/Programacion/Apache%20Beam%20Course/parDo.ipynb#X21sZmlsZQ%3D%3D?line=3'>4</a>\u001b[0m     \u001b[39mif\u001b[39;00m element[\u001b[39m3\u001b[39;49m] \u001b[39m==\u001b[39m \u001b[39m'\u001b[39m\u001b[39mAccounts\u001b[39m\u001b[39m'\u001b[39m:\n\u001b[0;32m      <a href='vscode-notebook-cell:/c%3A/Users/Sebastian/Documents/Programacion/Apache%20Beam%20Course/parDo.ipynb#X21sZmlsZQ%3D%3D?line=4'>5</a>\u001b[0m         \u001b[39mreturn\u001b[39;00m  [element]\n",
      "\u001b[1;31mIndexError\u001b[0m: string index out of range [while running '[24]: ParDo(FilterAccountsEmployee)']"
     ]
    }
   ],
   "source": [
    "with beam.Pipeline() as p:\n",
    "    attendance_count=(\n",
    "        p\n",
    "        |   beam.io.ReadFromText('data/dept_data.txt')\n",
    "        |   beam.ParDo(SplitRow())\n",
    "        |   beam.ParDo(FilterAccountsEmployee())\n",
    "        |   beam.io.WriteToText('data/out_pardo_flatmap_filter')\n",
    "    )\n"
   ]
  },
  {
   "cell_type": "code",
   "execution_count": 18,
   "metadata": {},
   "outputs": [
    {
     "name": "stdout",
     "output_type": "stream",
     "text": [
      "('4', 275)\n",
      "('a', 155)\n",
      "('0', 1078)\n",
      "('c', 278)\n",
      "('-', 260)\n",
      "('1', 179)\n",
      "('e', 186)\n",
      "('3', 151)\n",
      "('t', 31)\n",
      "('d', 31)\n"
     ]
    }
   ],
   "source": [
    "!head -n 10 data/out_pardo_flatmap-00000-of-00001"
   ]
  },
  {
   "cell_type": "markdown",
   "metadata": {},
   "source": []
  }
 ],
 "metadata": {
  "kernelspec": {
   "display_name": "Python 3.9.12 ('venv': venv)",
   "language": "python",
   "name": "python3"
  },
  "language_info": {
   "codemirror_mode": {
    "name": "ipython",
    "version": 3
   },
   "file_extension": ".py",
   "mimetype": "text/x-python",
   "name": "python",
   "nbconvert_exporter": "python",
   "pygments_lexer": "ipython3",
   "version": "3.9.12"
  },
  "orig_nbformat": 4,
  "vscode": {
   "interpreter": {
    "hash": "825f67373903a79eee6a8fac97956faac9ffbf2e2a0bf1f3ca7eaed6083fcfd2"
   }
  }
 },
 "nbformat": 4,
 "nbformat_minor": 2
}
