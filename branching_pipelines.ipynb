{
 "cells": [
  {
   "cell_type": "code",
   "execution_count": 1,
   "metadata": {},
   "outputs": [],
   "source": [
    "import apache_beam as beam"
   ]
  },
  {
   "cell_type": "code",
   "execution_count": 2,
   "metadata": {},
   "outputs": [],
   "source": [
    "def SplitRow(element):\n",
    "    return element.split(',')"
   ]
  },
  {
   "cell_type": "code",
   "execution_count": 11,
   "metadata": {},
   "outputs": [],
   "source": [
    "with beam.Pipeline() as p:\n",
    "\n",
    "    input_collection = (\n",
    "        p\n",
    "        | \"Read text from a file\" >> beam.io.ReadFromText('data/dept_data.txt')\n",
    "        | \"Split rows\" >> beam.Map(SplitRow)\n",
    "\n",
    "    )\n",
    "\n",
    "    accounts_count = (\n",
    "\n",
    "        input_collection\n",
    "        | \"Get all accounts dept persons\" >> beam.Filter(lambda record: record[3] == 'Accounts')\n",
    "        | \"Pair each accounts employee with 1\" >> beam.Map(lambda record: (\"Accounts, \" + record[1],1))\n",
    "        | \"Group and sum Accounts\" >> beam.CombinePerKey(sum)\n",
    "        | \"Write results for account\" >> beam.io.WriteToText('data/output_branch_pipeline_accounts')\n",
    "    )\n",
    "\n",
    "    hr_count = (\n",
    "\n",
    "        input_collection\n",
    "        | \"Get all HR dept persons\" >> beam.Filter(lambda record: record[3] == 'HR')\n",
    "        | \"Pair each HR employee with 1\" >> beam.Map(lambda record: (\"HR, \" + record[1],1))\n",
    "        | \"Group and sum HR\" >> beam.CombinePerKey(sum)\n",
    "        | \"Write results for hr\" >> beam.io.WriteToText('data/output_branch_pipeline_hr')\n",
    "    )\n",
    "    outputs = (\n",
    "        (accounts_count, hr_count)\n",
    "        | beam.Flatten()\n",
    "        | beam.io.WriteToText('data/output_branch_pipeline_both')\n",
    "    )"
   ]
  },
  {
   "cell_type": "markdown",
   "metadata": {},
   "source": [
    "#### Nota:\n",
    "- Si dejamos las dos outputs en cada PCollection, se generaran dos archivos separados\n",
    "- Si no ponemos las dos outputs, la PColleccion output genera un merge de ambas PCollections"
   ]
  },
  {
   "cell_type": "code",
   "execution_count": 12,
   "metadata": {},
   "outputs": [
    {
     "name": "stdout",
     "output_type": "stream",
     "text": [
      "('Accounts, Marco', 31)\n",
      "('Accounts, Rebekah', 31)\n",
      "('Accounts, Itoe', 31)\n",
      "('Accounts, Edouard', 31)\n",
      "('Accounts, Kyle', 62)\n",
      "('Accounts, Kumiko', 31)\n",
      "('Accounts, Gaston', 31)\n",
      "('Accounts, Ayumi', 30)\n"
     ]
    }
   ],
   "source": [
    "!head -n 10 data/output_branch_pipeline_accounts-00000-of-00001"
   ]
  },
  {
   "cell_type": "code",
   "execution_count": 13,
   "metadata": {},
   "outputs": [
    {
     "name": "stdout",
     "output_type": "stream",
     "text": [
      "('HR, Beryl', 62)\n",
      "('HR, Olga', 31)\n",
      "('HR, Leslie', 31)\n",
      "('HR, Mindy', 31)\n",
      "('HR, Vicky', 31)\n",
      "('HR, Richard', 31)\n",
      "('HR, Kirk', 31)\n",
      "('HR, Kaori', 31)\n",
      "('HR, Oscar', 31)\n"
     ]
    }
   ],
   "source": [
    "!head -n 10 data/output_branch_pipeline_hr-00000-of-00001"
   ]
  },
  {
   "cell_type": "code",
   "execution_count": 14,
   "metadata": {},
   "outputs": [
    {
     "name": "stdout",
     "output_type": "stream",
     "text": [
      "data/output_branch_pipeline_hr-00000-of-00001\n",
      "data/output_branch_pipeline_accounts-00000-of-00001\n"
     ]
    }
   ],
   "source": [
    "!head -n 10 data/output_branch_pipeline_both-00000-of-00001"
   ]
  },
  {
   "cell_type": "code",
   "execution_count": null,
   "metadata": {},
   "outputs": [],
   "source": []
  }
 ],
 "metadata": {
  "kernelspec": {
   "display_name": "Python 3.9.12 ('venv': venv)",
   "language": "python",
   "name": "python3"
  },
  "language_info": {
   "codemirror_mode": {
    "name": "ipython",
    "version": 3
   },
   "file_extension": ".py",
   "mimetype": "text/x-python",
   "name": "python",
   "nbconvert_exporter": "python",
   "pygments_lexer": "ipython3",
   "version": "3.9.12"
  },
  "orig_nbformat": 4,
  "vscode": {
   "interpreter": {
    "hash": "825f67373903a79eee6a8fac97956faac9ffbf2e2a0bf1f3ca7eaed6083fcfd2"
   }
  }
 },
 "nbformat": 4,
 "nbformat_minor": 2
}
