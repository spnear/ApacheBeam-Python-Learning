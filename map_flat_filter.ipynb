{
 "cells": [
  {
   "cell_type": "code",
   "execution_count": 1,
   "metadata": {},
   "outputs": [
    {
     "name": "stdout",
     "output_type": "stream",
     "text": [
      "basic_beam.ipynb\n",
      "beam_create.ipynb\n",
      "data\n",
      "map_flat_filter.ipynb\n",
      "venv\n"
     ]
    }
   ],
   "source": [
    "!ls"
   ]
  },
  {
   "cell_type": "code",
   "execution_count": 2,
   "metadata": {},
   "outputs": [],
   "source": [
    "import apache_beam as beam"
   ]
  },
  {
   "cell_type": "code",
   "execution_count": 3,
   "metadata": {},
   "outputs": [
    {
     "data": {
      "application/javascript": "\n        if (typeof window.interactive_beam_jquery == 'undefined') {\n          var jqueryScript = document.createElement('script');\n          jqueryScript.src = 'https://code.jquery.com/jquery-3.4.1.slim.min.js';\n          jqueryScript.type = 'text/javascript';\n          jqueryScript.onload = function() {\n            var datatableScript = document.createElement('script');\n            datatableScript.src = 'https://cdn.datatables.net/1.10.20/js/jquery.dataTables.min.js';\n            datatableScript.type = 'text/javascript';\n            datatableScript.onload = function() {\n              window.interactive_beam_jquery = jQuery.noConflict(true);\n              window.interactive_beam_jquery(document).ready(function($){\n                \n              });\n            }\n            document.head.appendChild(datatableScript);\n          };\n          document.head.appendChild(jqueryScript);\n        } else {\n          window.interactive_beam_jquery(document).ready(function($){\n            \n          });\n        }"
     },
     "metadata": {},
     "output_type": "display_data"
    }
   ],
   "source": [
    "p = beam.Pipeline()\n",
    "# Core template\n",
    "\n",
    "attendance_count = (\n",
    "\n",
    "    p\n",
    "    |   beam.io.ReadFromText('data/dept_data.txt')\n",
    "    |   beam.io.WriteToText('data/output_new')\n",
    ")\n",
    "p.run()"
   ]
  },
  {
   "cell_type": "code",
   "execution_count": 7,
   "metadata": {},
   "outputs": [
    {
     "name": "stdout",
     "output_type": "stream",
     "text": [
      "149633CM,Marco,10,Accounts,1-01-2019\n",
      "212539MU,Rebekah,10,Accounts,1-01-2019\n",
      "231555ZZ,Itoe,10,Accounts,1-01-2019\n",
      "503996WI,Edouard,10,Accounts,1-01-2019\n",
      "704275DC,Kyle,10,Accounts,1-01-2019\n"
     ]
    }
   ],
   "source": [
    "!head -n 5 data/output_new-00000-of-00001"
   ]
  },
  {
   "cell_type": "code",
   "execution_count": 8,
   "metadata": {},
   "outputs": [
    {
     "data": {
      "text/plain": [
       "<apache_beam.runners.portability.fn_api_runner.fn_runner.RunnerResult at 0x1d4fd061c40>"
      ]
     },
     "execution_count": 8,
     "metadata": {},
     "output_type": "execute_result"
    }
   ],
   "source": [
    "def SplitRow(element):\n",
    "    return element.split(',')\n",
    "\n",
    "p = beam.Pipeline()\n",
    "# Map transform\n",
    "# 1 Input = 1 Output -> 1 to 1 mapping function over each element of the PCollection\n",
    "\n",
    "attendance_count = (\n",
    "\n",
    "    p\n",
    "    |   beam.io.ReadFromText('data/dept_data.txt')\n",
    "    |   beam.Map(SplitRow)\n",
    "    |   beam.io.WriteToText('data/output_map')\n",
    ")\n",
    "p.run()"
   ]
  },
  {
   "cell_type": "code",
   "execution_count": 9,
   "metadata": {},
   "outputs": [
    {
     "name": "stdout",
     "output_type": "stream",
     "text": [
      "['149633CM', 'Marco', '10', 'Accounts', '1-01-2019']\n",
      "['212539MU', 'Rebekah', '10', 'Accounts', '1-01-2019']\n",
      "['231555ZZ', 'Itoe', '10', 'Accounts', '1-01-2019']\n",
      "['503996WI', 'Edouard', '10', 'Accounts', '1-01-2019']\n",
      "['704275DC', 'Kyle', '10', 'Accounts', '1-01-2019']\n"
     ]
    }
   ],
   "source": [
    "!head -n 5 data/output_map-00000-of-00001"
   ]
  },
  {
   "cell_type": "code",
   "execution_count": 10,
   "metadata": {},
   "outputs": [
    {
     "data": {
      "text/plain": [
       "<apache_beam.runners.portability.fn_api_runner.fn_runner.RunnerResult at 0x1d4fd0ce100>"
      ]
     },
     "execution_count": 10,
     "metadata": {},
     "output_type": "execute_result"
    }
   ],
   "source": [
    "def SplitRow(element):\n",
    "    return element.split(',') # return [element.split(',')] will give same result as Map\n",
    "\n",
    "p = beam.Pipeline()\n",
    "# FlatMap transform\n",
    "# Multiple Element for Single Element (1 to Many) of the PCollection\n",
    "\n",
    "attendance_count = (\n",
    "\n",
    "    p\n",
    "    |   beam.io.ReadFromText('data/dept_data.txt')\n",
    "    |   beam.FlatMap(SplitRow)\n",
    "    |   beam.io.WriteToText('data/output_flatmap')\n",
    ")\n",
    "p.run()"
   ]
  },
  {
   "cell_type": "code",
   "execution_count": 12,
   "metadata": {},
   "outputs": [
    {
     "name": "stdout",
     "output_type": "stream",
     "text": [
      "149633CM\n",
      "Marco\n",
      "10\n",
      "Accounts\n",
      "1-01-2019\n",
      "212539MU\n",
      "Rebekah\n",
      "10\n",
      "Accounts\n",
      "1-01-2019\n"
     ]
    }
   ],
   "source": [
    "!head -n 10 data/output_flatmap-00000-of-00001"
   ]
  },
  {
   "cell_type": "code",
   "execution_count": 13,
   "metadata": {},
   "outputs": [
    {
     "data": {
      "text/plain": [
       "<apache_beam.runners.portability.fn_api_runner.fn_runner.RunnerResult at 0x1d4fd11fa00>"
      ]
     },
     "execution_count": 13,
     "metadata": {},
     "output_type": "execute_result"
    }
   ],
   "source": [
    "def SplitRow(element):\n",
    "    return element.split(',')\n",
    "\n",
    "def filtering(record):\n",
    "    return record[3] == 'Accounts'\n",
    "\n",
    "p = beam.Pipeline()\n",
    "# Filter transform\n",
    "# Apply a filter to a PCollection\n",
    "\n",
    "attendance_count = (\n",
    "\n",
    "    p\n",
    "    |   beam.io.ReadFromText('data/dept_data.txt')\n",
    "    |   beam.Map(SplitRow)\n",
    "    |   beam.Filter(filtering)\n",
    "    |   beam.io.WriteToText('data/output_filter')\n",
    ")\n",
    "p.run()"
   ]
  },
  {
   "cell_type": "code",
   "execution_count": 14,
   "metadata": {},
   "outputs": [
    {
     "name": "stdout",
     "output_type": "stream",
     "text": [
      "['149633CM', 'Marco', '10', 'Accounts', '1-01-2019']\n",
      "['212539MU', 'Rebekah', '10', 'Accounts', '1-01-2019']\n",
      "['231555ZZ', 'Itoe', '10', 'Accounts', '1-01-2019']\n",
      "['503996WI', 'Edouard', '10', 'Accounts', '1-01-2019']\n",
      "['704275DC', 'Kyle', '10', 'Accounts', '1-01-2019']\n",
      "['957149WC', 'Kyle', '10', 'Accounts', '1-01-2019']\n",
      "['241316NX', 'Kumiko', '10', 'Accounts', '1-01-2019']\n",
      "['796656IE', 'Gaston', '10', 'Accounts', '1-01-2019']\n",
      "['149633CM', 'Marco', '10', 'Accounts', '2-01-2019']\n",
      "['212539MU', 'Rebekah', '10', 'Accounts', '2-01-2019']\n"
     ]
    }
   ],
   "source": [
    "!head -n 10 data/output_filter-00000-of-00001"
   ]
  },
  {
   "cell_type": "markdown",
   "metadata": {},
   "source": [
    "## Full Pipeline"
   ]
  },
  {
   "cell_type": "code",
   "execution_count": 17,
   "metadata": {},
   "outputs": [
    {
     "data": {
      "text/plain": [
       "<apache_beam.runners.portability.fn_api_runner.fn_runner.RunnerResult at 0x1d480ff8c10>"
      ]
     },
     "execution_count": 17,
     "metadata": {},
     "output_type": "execute_result"
    }
   ],
   "source": [
    "#p = beam.Pipeline()\n",
    "with beam.Pipeline() as p:\n",
    "\n",
    "    attendance_count = (\n",
    "\n",
    "        p\n",
    "        |'Read from file'       >>   beam.io.ReadFromText('data/dept_data.txt')\n",
    "        |'Map transform'        >>   beam.Map(lambda record: record.split(','))\n",
    "        |'Filter Accounts'      >>   beam.Filter(lambda record: record[3] == 'Accounts')\n",
    "        |'Tag Passed Accounts'  >>   beam.Map(lambda record: (record[1],1))\n",
    "        |'Sum Employees'        >>   beam.CombinePerKey(sum) # GroupByKey + Combiner + Reducer\n",
    "        |'Output to a file'     >>   beam.io.WriteToText('data/output_pipeline')\n",
    "    )\n",
    "#p.run()"
   ]
  },
  {
   "cell_type": "code",
   "execution_count": 18,
   "metadata": {},
   "outputs": [
    {
     "name": "stdout",
     "output_type": "stream",
     "text": [
      "('Marco', 31)\n",
      "('Rebekah', 31)\n",
      "('Itoe', 31)\n",
      "('Edouard', 31)\n",
      "('Kyle', 62)\n",
      "('Kumiko', 31)\n",
      "('Gaston', 31)\n",
      "('Ayumi', 30)\n"
     ]
    }
   ],
   "source": [
    "!head -n 10 data/output_pipeline-00000-of-00001"
   ]
  },
  {
   "cell_type": "code",
   "execution_count": null,
   "metadata": {},
   "outputs": [],
   "source": []
  }
 ],
 "metadata": {
  "kernelspec": {
   "display_name": "Python 3.9.12 ('venv': venv)",
   "language": "python",
   "name": "python3"
  },
  "language_info": {
   "codemirror_mode": {
    "name": "ipython",
    "version": 3
   },
   "file_extension": ".py",
   "mimetype": "text/x-python",
   "name": "python",
   "nbconvert_exporter": "python",
   "pygments_lexer": "ipython3",
   "version": "3.9.12"
  },
  "orig_nbformat": 4,
  "vscode": {
   "interpreter": {
    "hash": "825f67373903a79eee6a8fac97956faac9ffbf2e2a0bf1f3ca7eaed6083fcfd2"
   }
  }
 },
 "nbformat": 4,
 "nbformat_minor": 2
}
